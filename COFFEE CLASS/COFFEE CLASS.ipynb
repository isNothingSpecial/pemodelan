{
 "cells": [
  {
   "cell_type": "code",
   "execution_count": 25,
   "id": "bbcf5dea",
   "metadata": {},
   "outputs": [],
   "source": [
    "import pandas as pd\n",
    "import pylab as pl\n",
    "import numpy as np\n",
    "from sklearn.model_selection import train_test_split\n",
    "from sklearn.naive_bayes import GaussianNB\n",
    "from sklearn.metrics import accuracy_score\n",
    "from sklearn.model_selection import GridSearchCV\n",
    "from sklearn.neighbors import KNeighborsClassifier"
   ]
  },
  {
   "cell_type": "code",
   "execution_count": 3,
   "id": "9dda95f0",
   "metadata": {},
   "outputs": [],
   "source": [
    "dataset = \"53_coffee.csv\"\n",
    "df=pd.read_csv(dataset)"
   ]
  },
  {
   "cell_type": "code",
   "execution_count": 5,
   "id": "297b0d29",
   "metadata": {},
   "outputs": [
    {
     "name": "stdout",
     "output_type": "stream",
     "text": [
      "    RID  Species                               Owner       Country.of.Origin  \\\n",
      "0     0  Arabica                           metad plc                Ethiopia   \n",
      "1     1  Arabica                           metad plc                Ethiopia   \n",
      "2     2  Arabica            grounds for health admin               Guatemala   \n",
      "3     3  Arabica                 yidnekachew dabessa                Ethiopia   \n",
      "4     4  Arabica                           metad plc                Ethiopia   \n",
      "5     6  Arabica                       hugo valdivia                    Peru   \n",
      "6     7  Arabica         ethiopia commodity exchange                Ethiopia   \n",
      "7     8  Arabica         ethiopia commodity exchange                Ethiopia   \n",
      "8     9  Arabica              diamond enterprise plc                Ethiopia   \n",
      "9    10  Arabica                       mohammed lalo                Ethiopia   \n",
      "10   11  Arabica  cqi q coffee sample representative           United States   \n",
      "11   12  Arabica  cqi q coffee sample representative           United States   \n",
      "12   13  Arabica            grounds for health admin  United States (Hawaii)   \n",
      "13   14  Arabica         ethiopia commodity exchange                Ethiopia   \n",
      "14   15  Arabica  cqi q coffee sample representative           United States   \n",
      "15   16  Arabica            grounds for health admin               Indonesia   \n",
      "16   17  Arabica         ethiopia commodity exchange                Ethiopia   \n",
      "17   18  Arabica              yunnan coffee exchange                   China   \n",
      "18   19  Arabica                       essencecoffee                Ethiopia   \n",
      "19   20  Arabica  cqi q coffee sample representative           United States   \n",
      "20   21  Arabica              the coffee source inc.              Costa Rica   \n",
      "21   22  Arabica               roberto licona franco                  Mexico   \n",
      "22   23  Arabica  cqi q coffee sample representative           United States   \n",
      "23   24  Arabica                           ji-ae ahn                Ethiopia   \n",
      "24   25  Arabica                            nucoffee                  Brazil   \n",
      "25   26  Robusta        ankole coffee producers coop                  Uganda   \n",
      "26   27  Robusta                      nishant gurjer                   India   \n",
      "27   28  Robusta                       andrew hetzel                   India   \n",
      "28   29  Robusta                              ugacof                  Uganda   \n",
      "29   30  Robusta        katuka development trust ltd                  Uganda   \n",
      "30   31  Robusta                       andrew hetzel                   India   \n",
      "31   32  Robusta                       andrew hetzel                   India   \n",
      "32   33  Robusta                      nishant gurjer                   India   \n",
      "33   34  Robusta                      nishant gurjer                   India   \n",
      "34   35  Robusta                              ugacof                  Uganda   \n",
      "35   36  Robusta                              ugacof                  Uganda   \n",
      "36   37  Robusta                      nishant gurjer                   India   \n",
      "37   38  Robusta                       andrew hetzel                   India   \n",
      "38   39  Robusta   kasozi coffee farmers association                  Uganda   \n",
      "39   40  Robusta        ankole coffee producers coop                  Uganda   \n",
      "40   41  Robusta                       andrew hetzel                   India   \n",
      "41   42  Robusta                       andrew hetzel                   India   \n",
      "42   43  Robusta                  kawacom uganda ltd                  Uganda   \n",
      "43   44  Robusta                       nitubaasa ltd                  Uganda   \n",
      "44   45  Robusta               mannya coffee project                  Uganda   \n",
      "45   46  Robusta                       andrew hetzel                   India   \n",
      "46   47  Robusta                       andrew hetzel                   India   \n",
      "47   48  Robusta                       andrew hetzel           United States   \n",
      "48   49  Robusta                         luis robles                 Ecuador   \n",
      "49   50  Robusta                         james moore           United States   \n",
      "\n",
      "                                   Farm.Name Lot.Number  \\\n",
      "0                                  metad plc        NaN   \n",
      "1                                  metad plc        NaN   \n",
      "2   san marcos barrancas \"san cristobal cuch        NaN   \n",
      "3      yidnekachew dabessa coffee plantation        NaN   \n",
      "4                                  metad plc        NaN   \n",
      "5                                        NaN        NaN   \n",
      "6                                      aolme        NaN   \n",
      "7                                      aolme        NaN   \n",
      "8                          tulla coffee farm        NaN   \n",
      "9                    fahem coffee plantation        NaN   \n",
      "10                                   el filo        NaN   \n",
      "11                                los cedros        NaN   \n",
      "12                             arianna farms        NaN   \n",
      "13                                     aolme        NaN   \n",
      "14                                el Ã¡guila        NaN   \n",
      "15                               toarco jaya        NaN   \n",
      "16                                       NaN        NaN   \n",
      "17                               echo coffee  YNC-06114   \n",
      "18                                drima zede        NaN   \n",
      "19                                  el rodeo        NaN   \n",
      "20                                   several        NaN   \n",
      "21                              la herradura        NaN   \n",
      "22                                  la curva        NaN   \n",
      "23                                       NaN        NaN   \n",
      "24                           fazenda kaquend        NaN   \n",
      "25             kyangundu cooperative society        NaN   \n",
      "26            sethuraman estate kaapi royale         25   \n",
      "27                         sethuraman estate        NaN   \n",
      "28                       ugacof project area        NaN   \n",
      "29        katikamu capca farmers association        NaN   \n",
      "30                                       NaN        NaN   \n",
      "31                        sethuraman estates        NaN   \n",
      "32            sethuraman estate kaapi royale          7   \n",
      "33                         sethuraman estate        RKR   \n",
      "34                                    ishaka        NaN   \n",
      "35                       ugacof project area        NaN   \n",
      "36            sethuraman estate kaapi royale      RC AB   \n",
      "37                        sethuraman estates        NaN   \n",
      "38                     kasozi coffee farmers        NaN   \n",
      "39                    kyangundu coop society        NaN   \n",
      "40                         sethuraman estate        NaN   \n",
      "41                        sethuraman estates        NaN   \n",
      "42                                  bushenyi        NaN   \n",
      "43         kigezi coffee farmers association        NaN   \n",
      "44                     mannya coffee project        NaN   \n",
      "45                        sethuraman estates        NaN   \n",
      "46                        sethuraman estates        NaN   \n",
      "47                        sethuraman estates        NaN   \n",
      "48                                 robustasa   Lavado 3   \n",
      "49                           fazenda cazengo        NaN   \n",
      "\n",
      "                                      Mill       ICO.Number  \\\n",
      "0                                metad plc        2014/2015   \n",
      "1                                metad plc        2014/2015   \n",
      "2                                      NaN              NaN   \n",
      "3                                  wolensu              NaN   \n",
      "4                                metad plc        2014/2015   \n",
      "5                                      hvc              NaN   \n",
      "6                                  c.p.w.e         010/0338   \n",
      "7                                  c.p.w.e         010/0338   \n",
      "8                        tulla coffee farm          2014/15   \n",
      "9                                      NaN              NaN   \n",
      "10                                     NaN          unknown   \n",
      "11                                     NaN          unknown   \n",
      "12                                     NaN              NaN   \n",
      "13                                 c.p.w.e         010/0338   \n",
      "14                                     NaN          unknown   \n",
      "15                                     NaN              NaN   \n",
      "16                                     NaN         010/0056   \n",
      "17                        echo coffee mill              NaN   \n",
      "18                              drima zede        100181006   \n",
      "19                                     NaN          unknown   \n",
      "20                cafe altura de san ramon       5-562-0015   \n",
      "21                            la herradura                0   \n",
      "22                                     NaN          unknown   \n",
      "23                                     NaN              NaN   \n",
      "24                                     NaN    002/1251/0073   \n",
      "25                 ankole coffee producers                0   \n",
      "26                       sethuraman estate  14/1148/2017/21   \n",
      "27                                     NaN                0   \n",
      "28                                  ugacof                0   \n",
      "29                katuka development trust                0   \n",
      "30                                  (self)              NaN   \n",
      "31                                     NaN              NaN   \n",
      "32                       sethuraman estate  14/1148/2017/18   \n",
      "33                       sethuraman estate  14/1148/2016/17   \n",
      "34                            nsubuga umar                0   \n",
      "35                                  ugacof                0   \n",
      "36                       sethuraman estate  14/1148/2016/12   \n",
      "37                                     NaN              NaN   \n",
      "38                                     NaN                0   \n",
      "39  ankole coffee producers coop union ltd                0   \n",
      "40                                     NaN                0   \n",
      "41                      sethuraman estates              NaN   \n",
      "42                                 kawacom                0   \n",
      "43                               nitubaasa                0   \n",
      "44                   mannya coffee project                0   \n",
      "45                                     NaN              NaN   \n",
      "46                      sethuraman estates              NaN   \n",
      "47                      sethuraman estates              NaN   \n",
      "48                          own laboratory              NaN   \n",
      "49                            cafe cazengo              NaN   \n",
      "\n",
      "                                  Company                       Altitude  ...  \\\n",
      "0       metad agricultural developmet plc                      1950-2200  ...   \n",
      "1       metad agricultural developmet plc                      1950-2200  ...   \n",
      "2                                     NaN                  1600 - 1800 m  ...   \n",
      "3   yidnekachew debessa coffee plantation                      1800-2200  ...   \n",
      "4       metad agricultural developmet plc                      1950-2200  ...   \n",
      "5   richmond investment-coffee department                            NaN  ...   \n",
      "6                                     NaN                      1570-1700  ...   \n",
      "7                                     NaN                      1570-1700  ...   \n",
      "8                  diamond enterprise plc                      1795-1850  ...   \n",
      "9                 fahem coffee plantation                      1855-1955  ...   \n",
      "10               coffee quality institute  meters above sea level: 1.872  ...   \n",
      "11               coffee quality institute  meters above sea level: 1.943  ...   \n",
      "12                                    NaN                        2000 ft  ...   \n",
      "13                                    NaN                      1570-1700  ...   \n",
      "14               coffee quality institute  meters above sea level: 2.080  ...   \n",
      "15                                    NaN                     1200-1800m  ...   \n",
      "16                                    NaN                            NaN  ...   \n",
      "17                 yunnan coffee exchange                           1450  ...   \n",
      "18                         essence coffee                     1700-2000m  ...   \n",
      "19               coffee quality institute  meters above sea level: 2.019  ...   \n",
      "20                 the coffee source inc.                      1300 msnm  ...   \n",
      "21                                    NaN                           1320  ...   \n",
      "22               coffee quality institute  meters above sea level: 2.112  ...   \n",
      "23                                    NaN                            NaN  ...   \n",
      "24                               nucoffee                          1250m  ...   \n",
      "25           ankole coffee producers coop                           1488  ...   \n",
      "26                           kaapi royale                           3170  ...   \n",
      "27                      sethuraman estate                          1000m  ...   \n",
      "28                             ugacof ltd                           1212  ...   \n",
      "29           katuka development trust ltd                      1200-1300  ...   \n",
      "30                        cafemakers, llc                          3000'  ...   \n",
      "31                             cafemakers                           750m  ...   \n",
      "32                           kaapi royale                           3140  ...   \n",
      "33                           kaapi royale                           1000  ...   \n",
      "34                             ugacof ltd                       900-1300  ...   \n",
      "35                             ugacof ltd                           1095  ...   \n",
      "36                           kaapi royale                           1000  ...   \n",
      "37                             cafemakers                           750m  ...   \n",
      "38      kasozi coffee farmers association                           1367  ...   \n",
      "39           ankole coffee producers coop                           1488  ...   \n",
      "40                      sethuraman estate                          1000m  ...   \n",
      "41                        cafemakers, llc                           750m  ...   \n",
      "42                     kawacom uganda ltd                           1600  ...   \n",
      "43                          nitubaasa ltd                           1745  ...   \n",
      "44                  mannya coffee project                           1200  ...   \n",
      "45                             cafemakers                           750m  ...   \n",
      "46                        cafemakers, llc                           750m  ...   \n",
      "47                        cafemakers, llc                          3000'  ...   \n",
      "48                              robustasa                             40  ...   \n",
      "49                global opportunity fund                     795 meters  ...   \n",
      "\n",
      "           Color Category.Two.Defects            Expiration  \\\n",
      "0          Green                    0       April 3rd, 2016   \n",
      "1          Green                    1       April 3rd, 2016   \n",
      "2          Green                    0        May 31st, 2011   \n",
      "3          Green                    2      March 25th, 2016   \n",
      "4          Green                    2       April 3rd, 2016   \n",
      "5   Bluish-Green                    0  September 17th, 2013   \n",
      "6   Bluish-Green                    0   September 2nd, 2011   \n",
      "7          Green                    0   September 2nd, 2011   \n",
      "8          Green                    4      March 29th, 2016   \n",
      "9          Green                    1      March 26th, 2016   \n",
      "10         Green                    0      March 12th, 2016   \n",
      "11         Green                    0      March 12th, 2016   \n",
      "12         Green                    2        May 31st, 2011   \n",
      "13         Green                    2     August 31st, 2011   \n",
      "14         Green                    0      March 12th, 2016   \n",
      "15         Green                    0        May 31st, 2011   \n",
      "16         Green                    2       June 16th, 2011   \n",
      "17         Green                    0       April 7th, 2017   \n",
      "18         Green                    8      March 24th, 2016   \n",
      "19          None                    0      March 12th, 2016   \n",
      "20         Green                    2       April 2nd, 2015   \n",
      "21         Green                    0       July 26th, 2013   \n",
      "22  Bluish-Green                    0      March 12th, 2016   \n",
      "23  Bluish-Green                    1   September 3rd, 2014   \n",
      "24         Green                    2    December 2nd, 2012   \n",
      "25         Green                    2       June 26th, 2015   \n",
      "26         Green                    2    October 31st, 2018   \n",
      "27         Green                    0      April 29th, 2016   \n",
      "28         Green                    7       July 14th, 2015   \n",
      "29         Green                    3       June 26th, 2015   \n",
      "30         Green                    0   February 28th, 2013   \n",
      "31         Green                    0        May 15th, 2015   \n",
      "32  Bluish-Green                    0    October 25th, 2018   \n",
      "33         Green                    0     August 17th, 2017   \n",
      "34         Green                    6      August 5th, 2015   \n",
      "35         Green                    1       June 26th, 2015   \n",
      "36         Green                    0     August 23rd, 2017   \n",
      "37         Green                    1        May 19th, 2015   \n",
      "38         Green                    7       July 14th, 2015   \n",
      "39         Green                    2       July 14th, 2015   \n",
      "40         Green                    0      April 29th, 2016   \n",
      "41    Blue-Green                    0        June 3rd, 2014   \n",
      "42         Green                    1       June 27th, 2015   \n",
      "43         Green                    2       June 27th, 2015   \n",
      "44         Green                    1       June 27th, 2015   \n",
      "45  Bluish-Green                    1        May 19th, 2015   \n",
      "46         Green                    0       June 20th, 2014   \n",
      "47         Green                    0   February 28th, 2013   \n",
      "48    Blue-Green                    0    January 18th, 2017   \n",
      "49    Blue-Green                    6   December 23rd, 2015   \n",
      "\n",
      "                     Certification.Body  \\\n",
      "0    METAD Agricultural Development plc   \n",
      "1    METAD Agricultural Development plc   \n",
      "2          Specialty Coffee Association   \n",
      "3    METAD Agricultural Development plc   \n",
      "4    METAD Agricultural Development plc   \n",
      "5    Specialty Coffee Institute of Asia   \n",
      "6           Ethiopia Commodity Exchange   \n",
      "7           Ethiopia Commodity Exchange   \n",
      "8    METAD Agricultural Development plc   \n",
      "9    METAD Agricultural Development plc   \n",
      "10                            AlmacafÃ©   \n",
      "11                            AlmacafÃ©   \n",
      "12         Specialty Coffee Association   \n",
      "13          Ethiopia Commodity Exchange   \n",
      "14                            AlmacafÃ©   \n",
      "15         Specialty Coffee Association   \n",
      "16          Ethiopia Commodity Exchange   \n",
      "17               Yunnan Coffee Exchange   \n",
      "18         Blossom Valley International   \n",
      "19                            AlmacafÃ©   \n",
      "20         Specialty Coffee Association   \n",
      "21                              AMECAFE   \n",
      "22                            AlmacafÃ©   \n",
      "23   Specialty Coffee Institute of Asia   \n",
      "24                             NUCOFFEE   \n",
      "25  Uganda Coffee Development Authority   \n",
      "26         Specialty Coffee Association   \n",
      "27         Specialty Coffee Association   \n",
      "28  Uganda Coffee Development Authority   \n",
      "29  Uganda Coffee Development Authority   \n",
      "30         Specialty Coffee Association   \n",
      "31         Specialty Coffee Association   \n",
      "32         Specialty Coffee Association   \n",
      "33         Specialty Coffee Association   \n",
      "34  Uganda Coffee Development Authority   \n",
      "35  Uganda Coffee Development Authority   \n",
      "36         Specialty Coffee Association   \n",
      "37         Specialty Coffee Association   \n",
      "38  Uganda Coffee Development Authority   \n",
      "39  Uganda Coffee Development Authority   \n",
      "40         Specialty Coffee Association   \n",
      "41         Specialty Coffee Association   \n",
      "42  Uganda Coffee Development Authority   \n",
      "43  Uganda Coffee Development Authority   \n",
      "44  Uganda Coffee Development Authority   \n",
      "45         Specialty Coffee Association   \n",
      "46         Specialty Coffee Association   \n",
      "47         Specialty Coffee Association   \n",
      "48         Specialty Coffee Association   \n",
      "49         Specialty Coffee Association   \n",
      "\n",
      "                       Certification.Address  \\\n",
      "0   309fcf77415a3661ae83e027f7e5f05dad786e44   \n",
      "1   309fcf77415a3661ae83e027f7e5f05dad786e44   \n",
      "2   36d0d00a3724338ba7937c52a378d085f2172daa   \n",
      "3   309fcf77415a3661ae83e027f7e5f05dad786e44   \n",
      "4   309fcf77415a3661ae83e027f7e5f05dad786e44   \n",
      "5   726e4891cf2c9a4848768bd34b668124d12c4224   \n",
      "6   a176532400aebdc345cf3d870f84ed3ecab6249e   \n",
      "7   a176532400aebdc345cf3d870f84ed3ecab6249e   \n",
      "8   309fcf77415a3661ae83e027f7e5f05dad786e44   \n",
      "9   309fcf77415a3661ae83e027f7e5f05dad786e44   \n",
      "10  e493c36c2d076bf273064f7ac23ad562af257a25   \n",
      "11  e493c36c2d076bf273064f7ac23ad562af257a25   \n",
      "12  36d0d00a3724338ba7937c52a378d085f2172daa   \n",
      "13  a176532400aebdc345cf3d870f84ed3ecab6249e   \n",
      "14  e493c36c2d076bf273064f7ac23ad562af257a25   \n",
      "15  36d0d00a3724338ba7937c52a378d085f2172daa   \n",
      "16  a176532400aebdc345cf3d870f84ed3ecab6249e   \n",
      "17  683fa6014608fc10ff681b0435b0b2dbe6df988f   \n",
      "18  fc45352eee499d8470cf94c9827922fb745bf815   \n",
      "19  e493c36c2d076bf273064f7ac23ad562af257a25   \n",
      "20  36d0d00a3724338ba7937c52a378d085f2172daa   \n",
      "21  59e396ad6e22a1c22b248f958e1da2bd8af85272   \n",
      "22  e493c36c2d076bf273064f7ac23ad562af257a25   \n",
      "23  726e4891cf2c9a4848768bd34b668124d12c4224   \n",
      "24  567f200bcc17a90070cb952647bf88141ad9c80c   \n",
      "25  e36d0270932c3b657e96b7b0278dfd85dc0fe743   \n",
      "26  ff7c18ad303d4b603ac3f8cff7e611ffc735e720   \n",
      "27  ff7c18ad303d4b603ac3f8cff7e611ffc735e720   \n",
      "28  e36d0270932c3b657e96b7b0278dfd85dc0fe743   \n",
      "29  e36d0270932c3b657e96b7b0278dfd85dc0fe743   \n",
      "30  ff7c18ad303d4b603ac3f8cff7e611ffc735e720   \n",
      "31  ff7c18ad303d4b603ac3f8cff7e611ffc735e720   \n",
      "32  ff7c18ad303d4b603ac3f8cff7e611ffc735e720   \n",
      "33  ff7c18ad303d4b603ac3f8cff7e611ffc735e720   \n",
      "34  e36d0270932c3b657e96b7b0278dfd85dc0fe743   \n",
      "35  e36d0270932c3b657e96b7b0278dfd85dc0fe743   \n",
      "36  ff7c18ad303d4b603ac3f8cff7e611ffc735e720   \n",
      "37  ff7c18ad303d4b603ac3f8cff7e611ffc735e720   \n",
      "38  e36d0270932c3b657e96b7b0278dfd85dc0fe743   \n",
      "39  e36d0270932c3b657e96b7b0278dfd85dc0fe743   \n",
      "40  ff7c18ad303d4b603ac3f8cff7e611ffc735e720   \n",
      "41  ff7c18ad303d4b603ac3f8cff7e611ffc735e720   \n",
      "42  e36d0270932c3b657e96b7b0278dfd85dc0fe743   \n",
      "43  e36d0270932c3b657e96b7b0278dfd85dc0fe743   \n",
      "44  e36d0270932c3b657e96b7b0278dfd85dc0fe743   \n",
      "45  ff7c18ad303d4b603ac3f8cff7e611ffc735e720   \n",
      "46  ff7c18ad303d4b603ac3f8cff7e611ffc735e720   \n",
      "47  ff7c18ad303d4b603ac3f8cff7e611ffc735e720   \n",
      "48  ff7c18ad303d4b603ac3f8cff7e611ffc735e720   \n",
      "49  ff7c18ad303d4b603ac3f8cff7e611ffc735e720   \n",
      "\n",
      "                       Certification.Contact unit_of_measurement  \\\n",
      "0   19fef5a731de2db57d16da10287413f5f99bc2dd                   m   \n",
      "1   19fef5a731de2db57d16da10287413f5f99bc2dd                   m   \n",
      "2   0878a7d4b9d35ddbf0fe2ce69a2062cceb45a660                   m   \n",
      "3   19fef5a731de2db57d16da10287413f5f99bc2dd                   m   \n",
      "4   19fef5a731de2db57d16da10287413f5f99bc2dd                   m   \n",
      "5   b70da261fcc84831e3e9620c30a8701540abc200                   m   \n",
      "6   61bbaf6a9f341e5782b8e7bd3ebf76aac89fe24b                   m   \n",
      "7   61bbaf6a9f341e5782b8e7bd3ebf76aac89fe24b                   m   \n",
      "8   19fef5a731de2db57d16da10287413f5f99bc2dd                   m   \n",
      "9   19fef5a731de2db57d16da10287413f5f99bc2dd                   m   \n",
      "10  70d3c0c26f89e00fdae6fb39ff54f0d2eb1c38ab                   m   \n",
      "11  70d3c0c26f89e00fdae6fb39ff54f0d2eb1c38ab                   m   \n",
      "12  0878a7d4b9d35ddbf0fe2ce69a2062cceb45a660                  ft   \n",
      "13  61bbaf6a9f341e5782b8e7bd3ebf76aac89fe24b                   m   \n",
      "14  70d3c0c26f89e00fdae6fb39ff54f0d2eb1c38ab                   m   \n",
      "15  0878a7d4b9d35ddbf0fe2ce69a2062cceb45a660                   m   \n",
      "16  61bbaf6a9f341e5782b8e7bd3ebf76aac89fe24b                   m   \n",
      "17  f6d87a6c04653c569d4911a66f89d5e30ce83b93                   m   \n",
      "18  de73fc9412358b523d3a641501e542f31d2668b0                   m   \n",
      "19  70d3c0c26f89e00fdae6fb39ff54f0d2eb1c38ab                   m   \n",
      "20  0878a7d4b9d35ddbf0fe2ce69a2062cceb45a660                   m   \n",
      "21  0eb4ee5b3f47b20b049548a2fd1e7d4a2b70d0a7                   m   \n",
      "22  70d3c0c26f89e00fdae6fb39ff54f0d2eb1c38ab                   m   \n",
      "23  b70da261fcc84831e3e9620c30a8701540abc200                   m   \n",
      "24  aa2ff513ffb9c844462a1fb07c599bce7f3bb53d                   m   \n",
      "25  03077a1c6bac60e6f514691634a7f6eb5c85aae8                   m   \n",
      "26  352d0cf7f3e9be14dad7df644ad65efc27605ae2                   m   \n",
      "27  352d0cf7f3e9be14dad7df644ad65efc27605ae2                   m   \n",
      "28  03077a1c6bac60e6f514691634a7f6eb5c85aae8                   m   \n",
      "29  03077a1c6bac60e6f514691634a7f6eb5c85aae8                   m   \n",
      "30  352d0cf7f3e9be14dad7df644ad65efc27605ae2                   m   \n",
      "31  352d0cf7f3e9be14dad7df644ad65efc27605ae2                   m   \n",
      "32  352d0cf7f3e9be14dad7df644ad65efc27605ae2                   m   \n",
      "33  352d0cf7f3e9be14dad7df644ad65efc27605ae2                   m   \n",
      "34  03077a1c6bac60e6f514691634a7f6eb5c85aae8                   m   \n",
      "35  03077a1c6bac60e6f514691634a7f6eb5c85aae8                   m   \n",
      "36  352d0cf7f3e9be14dad7df644ad65efc27605ae2                   m   \n",
      "37  352d0cf7f3e9be14dad7df644ad65efc27605ae2                   m   \n",
      "38  03077a1c6bac60e6f514691634a7f6eb5c85aae8                   m   \n",
      "39  03077a1c6bac60e6f514691634a7f6eb5c85aae8                   m   \n",
      "40  352d0cf7f3e9be14dad7df644ad65efc27605ae2                   m   \n",
      "41  352d0cf7f3e9be14dad7df644ad65efc27605ae2                   m   \n",
      "42  03077a1c6bac60e6f514691634a7f6eb5c85aae8                   m   \n",
      "43  03077a1c6bac60e6f514691634a7f6eb5c85aae8                   m   \n",
      "44  03077a1c6bac60e6f514691634a7f6eb5c85aae8                   m   \n",
      "45  352d0cf7f3e9be14dad7df644ad65efc27605ae2                   m   \n",
      "46  352d0cf7f3e9be14dad7df644ad65efc27605ae2                   m   \n",
      "47  352d0cf7f3e9be14dad7df644ad65efc27605ae2                   m   \n",
      "48  352d0cf7f3e9be14dad7df644ad65efc27605ae2                   m   \n",
      "49  352d0cf7f3e9be14dad7df644ad65efc27605ae2                   m   \n",
      "\n",
      "   altitude_low_meters altitude_high_meters altitude_mean_meters  \n",
      "0               1950.0               2200.0               2075.0  \n",
      "1               1950.0               2200.0               2075.0  \n",
      "2               1600.0               1800.0               1700.0  \n",
      "3               1800.0               2200.0               2000.0  \n",
      "4               1950.0               2200.0               2075.0  \n",
      "5               1538.4               1538.4               1538.4  \n",
      "6               1570.0               1700.0               1635.0  \n",
      "7               1570.0               1700.0               1635.0  \n",
      "8               1795.0               1850.0               1822.5  \n",
      "9               1855.0               1955.0               1905.0  \n",
      "10              1872.0               1872.0               1872.0  \n",
      "11              1943.0               1943.0               1943.0  \n",
      "12               609.6                609.6                609.6  \n",
      "13              1570.0               1700.0               1635.0  \n",
      "14              2080.0               2080.0               2080.0  \n",
      "15              1200.0               1800.0               1500.0  \n",
      "16              1538.4               1538.4               1538.4  \n",
      "17              1450.0               1450.0               1450.0  \n",
      "18              1700.0               2000.0               1850.0  \n",
      "19              2019.0               2019.0               2019.0  \n",
      "20              1300.0               1300.0               1300.0  \n",
      "21              1320.0               1320.0               1320.0  \n",
      "22              2112.0               2112.0               2112.0  \n",
      "23              1538.4               1538.4               1538.4  \n",
      "24              1250.0               1250.0               1250.0  \n",
      "25              1488.0               1488.0               1488.0  \n",
      "26              3170.0               3170.0               3170.0  \n",
      "27              1000.0               1000.0               1000.0  \n",
      "28              1212.0               1212.0               1212.0  \n",
      "29              1200.0               1300.0               1250.0  \n",
      "30              3000.0               3000.0               3000.0  \n",
      "31               750.0                750.0                750.0  \n",
      "32              3140.0               3140.0               3140.0  \n",
      "33              1000.0               1000.0               1000.0  \n",
      "34               900.0               1300.0               1100.0  \n",
      "35              1095.0               1095.0               1095.0  \n",
      "36              1000.0               1000.0               1000.0  \n",
      "37               750.0                750.0                750.0  \n",
      "38              1367.0               1367.0               1367.0  \n",
      "39              1488.0               1488.0               1488.0  \n",
      "40              1000.0               1000.0               1000.0  \n",
      "41               750.0                750.0                750.0  \n",
      "42              1600.0               1600.0               1600.0  \n",
      "43              1745.0               1745.0               1745.0  \n",
      "44              1200.0               1200.0               1200.0  \n",
      "45               750.0                750.0                750.0  \n",
      "46               750.0                750.0                750.0  \n",
      "47              3000.0               3000.0               3000.0  \n",
      "48                40.0                 40.0                 40.0  \n",
      "49               795.0                795.0                795.0  \n",
      "\n",
      "[50 rows x 44 columns]\n"
     ]
    }
   ],
   "source": [
    "df = pd.read_csv('53_coffee.csv')\n",
    "print(df)\n",
    "\n",
    "# initial data frame"
   ]
  },
  {
   "cell_type": "code",
   "execution_count": 13,
   "id": "8e69b0b4",
   "metadata": {},
   "outputs": [
    {
     "data": {
      "text/plain": [
       "Color         Species\n",
       "Green         Arabica    20\n",
       "              Robusta    20\n",
       "Bluish-Green  Arabica     4\n",
       "Blue-Green    Robusta     3\n",
       "Bluish-Green  Robusta     2\n",
       "None          Arabica     1\n",
       "dtype: int64"
      ]
     },
     "execution_count": 13,
     "metadata": {},
     "output_type": "execute_result"
    }
   ],
   "source": [
    "df[['Color','Species']].value_counts()"
   ]
  },
  {
   "cell_type": "code",
   "execution_count": 6,
   "id": "cc88c66f",
   "metadata": {},
   "outputs": [
    {
     "name": "stdout",
     "output_type": "stream",
     "text": [
      "    Species       Country.of.Origin  Aroma  Flavor  Aftertaste  Acidity  \\\n",
      "0   Arabica                Ethiopia   8.67    8.83        8.67     8.75   \n",
      "1   Arabica                Ethiopia   8.75    8.67        8.50     8.58   \n",
      "2   Arabica               Guatemala   8.42    8.50        8.42     8.42   \n",
      "3   Arabica                Ethiopia   8.17    8.58        8.42     8.42   \n",
      "4   Arabica                Ethiopia   8.25    8.50        8.25     8.50   \n",
      "5   Arabica                    Peru   8.42    8.50        8.33     8.50   \n",
      "6   Arabica                Ethiopia   8.25    8.33        8.50     8.42   \n",
      "7   Arabica                Ethiopia   8.67    8.67        8.58     8.42   \n",
      "8   Arabica                Ethiopia   8.08    8.58        8.50     8.50   \n",
      "9   Arabica                Ethiopia   8.17    8.67        8.25     8.50   \n",
      "10  Arabica           United States   8.25    8.42        8.17     8.33   \n",
      "11  Arabica           United States   8.08    8.67        8.33     8.42   \n",
      "12  Arabica  United States (Hawaii)   8.33    8.42        8.08     8.25   \n",
      "13  Arabica                Ethiopia   8.25    8.33        8.50     8.25   \n",
      "14  Arabica           United States   8.00    8.50        8.58     8.17   \n",
      "15  Arabica               Indonesia   8.33    8.25        7.83     7.75   \n",
      "16  Arabica                Ethiopia   8.17    8.33        8.25     8.33   \n",
      "17  Arabica                   China   8.42    8.25        8.08     8.17   \n",
      "18  Arabica                Ethiopia   8.17    8.17        8.00     8.17   \n",
      "19  Arabica           United States   8.00    8.25        8.08     8.50   \n",
      "20  Arabica              Costa Rica   8.08    8.25        8.00     8.17   \n",
      "21  Arabica                  Mexico   8.17    8.25        8.17     8.00   \n",
      "22  Arabica           United States   8.25    8.33        8.17     8.17   \n",
      "23  Arabica                Ethiopia   8.42    8.17        7.92     8.17   \n",
      "24  Arabica                  Brazil   8.50    8.50        8.00     8.00   \n",
      "25  Robusta                  Uganda   7.83    8.08        7.75     7.92   \n",
      "26  Robusta                   India   8.00    7.75        7.92     8.00   \n",
      "27  Robusta                   India   7.92    7.83        7.92     8.00   \n",
      "28  Robusta                  Uganda   8.00    7.92        7.92     7.75   \n",
      "29  Robusta                  Uganda   8.33    7.83        7.83     7.75   \n",
      "30  Robusta                   India   8.00    7.92        7.67     8.00   \n",
      "31  Robusta                   India   7.67    7.75        7.83     7.83   \n",
      "32  Robusta                   India   7.67    7.75        7.83     7.67   \n",
      "33  Robusta                   India   7.67    7.75        7.58     7.83   \n",
      "34  Robusta                  Uganda   7.67    7.83        7.83     7.83   \n",
      "35  Robusta                  Uganda   7.58    7.92        7.75     7.83   \n",
      "36  Robusta                   India   7.67    7.83        7.75     7.50   \n",
      "37  Robusta                   India   7.58    7.58        7.67     7.58   \n",
      "38  Robusta                  Uganda   8.00    7.75        7.75     7.58   \n",
      "39  Robusta                  Uganda   8.00    7.67        7.75     7.50   \n",
      "40  Robusta                   India   7.75    7.75        7.67     7.67   \n",
      "41  Robusta                   India   7.50    7.50        7.25     7.83   \n",
      "42  Robusta                  Uganda   7.33    7.58        7.50     7.75   \n",
      "43  Robusta                  Uganda   7.83    7.58        7.33     7.67   \n",
      "44  Robusta                  Uganda   7.75    7.42        7.33     7.58   \n",
      "45  Robusta                   India   7.67    7.67        7.50     7.33   \n",
      "46  Robusta                   India   7.58    7.42        7.42     7.83   \n",
      "47  Robusta           United States   7.92    7.50        7.42     7.42   \n",
      "48  Robusta                 Ecuador   7.50    7.67        7.75     7.75   \n",
      "49  Robusta           United States   7.33    7.33        7.17     7.42   \n",
      "\n",
      "    Mouthfeel         Color  altitude_mean_meters  \n",
      "0        8.50         Green                2075.0  \n",
      "1        8.42         Green                2075.0  \n",
      "2        8.33         Green                1700.0  \n",
      "3        8.50         Green                2000.0  \n",
      "4        8.42         Green                2075.0  \n",
      "5        8.25  Bluish-Green                1538.4  \n",
      "6        8.33  Bluish-Green                1635.0  \n",
      "7        8.33         Green                1635.0  \n",
      "8        7.67         Green                1822.5  \n",
      "9        7.75         Green                1905.0  \n",
      "10       8.08         Green                1872.0  \n",
      "11       8.00         Green                1943.0  \n",
      "12       8.25         Green                 609.6  \n",
      "13       8.58         Green                1635.0  \n",
      "14       8.17         Green                2080.0  \n",
      "15       8.50         Green                1500.0  \n",
      "16       8.42         Green                1538.4  \n",
      "17       7.92         Green                1450.0  \n",
      "18       8.08         Green                1850.0  \n",
      "19       8.25          None                2019.0  \n",
      "20       8.00         Green                1300.0  \n",
      "21       7.83         Green                1320.0  \n",
      "22       7.83  Bluish-Green                2112.0  \n",
      "23       8.33  Bluish-Green                1538.4  \n",
      "24       8.00         Green                1250.0  \n",
      "25       8.25         Green                1488.0  \n",
      "26       7.92         Green                3170.0  \n",
      "27       7.83         Green                1000.0  \n",
      "28       7.83         Green                1212.0  \n",
      "29       8.25         Green                1250.0  \n",
      "30       7.75         Green                3000.0  \n",
      "31       7.92         Green                 750.0  \n",
      "32       7.92  Bluish-Green                3140.0  \n",
      "33       7.83         Green                1000.0  \n",
      "34       7.92         Green                1100.0  \n",
      "35       7.50         Green                1095.0  \n",
      "36       7.75         Green                1000.0  \n",
      "37       7.67         Green                 750.0  \n",
      "38       7.67         Green                1367.0  \n",
      "39       7.67         Green                1488.0  \n",
      "40       7.58         Green                1000.0  \n",
      "41       7.67    Blue-Green                 750.0  \n",
      "42       7.75         Green                1600.0  \n",
      "43       7.50         Green                1745.0  \n",
      "44       7.67         Green                1200.0  \n",
      "45       7.58  Bluish-Green                 750.0  \n",
      "46       7.42         Green                 750.0  \n",
      "47       7.42         Green                3000.0  \n",
      "48       5.17    Blue-Green                  40.0  \n",
      "49       7.50    Blue-Green                 795.0  \n"
     ]
    }
   ],
   "source": [
    "#select needed columns\n",
    "\n",
    "df1 = pd.DataFrame(df, columns=[\"Species\", \"Country.of.Origin\", \"Aroma\",\"Flavor\",\"Aftertaste\",\"Acidity\",\"Mouthfeel\",\"Color\",\"altitude_mean_meters\"])\n",
    "print(df1)"
   ]
  },
  {
   "cell_type": "code",
   "execution_count": 18,
   "id": "5c79ac79",
   "metadata": {},
   "outputs": [
    {
     "name": "stdout",
     "output_type": "stream",
     "text": [
      "   Species       Country.of.Origin  Aroma  Flavor  Aftertaste  Acidity  \\\n",
      "0        0                Ethiopia   8.67    8.83        8.67     8.75   \n",
      "1        0                Ethiopia   8.75    8.67        8.50     8.58   \n",
      "2        0               Guatemala   8.42    8.50        8.42     8.42   \n",
      "3        0                Ethiopia   8.17    8.58        8.42     8.42   \n",
      "4        0                Ethiopia   8.25    8.50        8.25     8.50   \n",
      "5        0                    Peru   8.42    8.50        8.33     8.50   \n",
      "6        0                Ethiopia   8.25    8.33        8.50     8.42   \n",
      "7        0                Ethiopia   8.67    8.67        8.58     8.42   \n",
      "8        0                Ethiopia   8.08    8.58        8.50     8.50   \n",
      "9        0                Ethiopia   8.17    8.67        8.25     8.50   \n",
      "10       0           United States   8.25    8.42        8.17     8.33   \n",
      "11       0           United States   8.08    8.67        8.33     8.42   \n",
      "12       0  United States (Hawaii)   8.33    8.42        8.08     8.25   \n",
      "13       0                Ethiopia   8.25    8.33        8.50     8.25   \n",
      "14       0           United States   8.00    8.50        8.58     8.17   \n",
      "15       0               Indonesia   8.33    8.25        7.83     7.75   \n",
      "16       0                Ethiopia   8.17    8.33        8.25     8.33   \n",
      "17       0                   China   8.42    8.25        8.08     8.17   \n",
      "18       0                Ethiopia   8.17    8.17        8.00     8.17   \n",
      "19       0           United States   8.00    8.25        8.08     8.50   \n",
      "20       0              Costa Rica   8.08    8.25        8.00     8.17   \n",
      "21       0                  Mexico   8.17    8.25        8.17     8.00   \n",
      "22       0           United States   8.25    8.33        8.17     8.17   \n",
      "23       0                Ethiopia   8.42    8.17        7.92     8.17   \n",
      "24       0                  Brazil   8.50    8.50        8.00     8.00   \n",
      "25       1                  Uganda   7.83    8.08        7.75     7.92   \n",
      "26       1                   India   8.00    7.75        7.92     8.00   \n",
      "27       1                   India   7.92    7.83        7.92     8.00   \n",
      "28       1                  Uganda   8.00    7.92        7.92     7.75   \n",
      "29       1                  Uganda   8.33    7.83        7.83     7.75   \n",
      "30       1                   India   8.00    7.92        7.67     8.00   \n",
      "31       1                   India   7.67    7.75        7.83     7.83   \n",
      "32       1                   India   7.67    7.75        7.83     7.67   \n",
      "33       1                   India   7.67    7.75        7.58     7.83   \n",
      "34       1                  Uganda   7.67    7.83        7.83     7.83   \n",
      "35       1                  Uganda   7.58    7.92        7.75     7.83   \n",
      "36       1                   India   7.67    7.83        7.75     7.50   \n",
      "37       1                   India   7.58    7.58        7.67     7.58   \n",
      "38       1                  Uganda   8.00    7.75        7.75     7.58   \n",
      "39       1                  Uganda   8.00    7.67        7.75     7.50   \n",
      "40       1                   India   7.75    7.75        7.67     7.67   \n",
      "41       1                   India   7.50    7.50        7.25     7.83   \n",
      "42       1                  Uganda   7.33    7.58        7.50     7.75   \n",
      "43       1                  Uganda   7.83    7.58        7.33     7.67   \n",
      "44       1                  Uganda   7.75    7.42        7.33     7.58   \n",
      "45       1                   India   7.67    7.67        7.50     7.33   \n",
      "46       1                   India   7.58    7.42        7.42     7.83   \n",
      "47       1           United States   7.92    7.50        7.42     7.42   \n",
      "48       1                 Ecuador   7.50    7.67        7.75     7.75   \n",
      "49       1           United States   7.33    7.33        7.17     7.42   \n",
      "\n",
      "    Mouthfeel Color  altitude_mean_meters  \n",
      "0        8.50     2                2075.0  \n",
      "1        8.42     2                2075.0  \n",
      "2        8.33     2                1700.0  \n",
      "3        8.50     2                2000.0  \n",
      "4        8.42     2                2075.0  \n",
      "5        8.25     1                1538.4  \n",
      "6        8.33     1                1635.0  \n",
      "7        8.33     2                1635.0  \n",
      "8        7.67     2                1822.5  \n",
      "9        7.75     2                1905.0  \n",
      "10       8.08     2                1872.0  \n",
      "11       8.00     2                1943.0  \n",
      "12       8.25     2                 609.6  \n",
      "13       8.58     2                1635.0  \n",
      "14       8.17     2                2080.0  \n",
      "15       8.50     2                1500.0  \n",
      "16       8.42     2                1538.4  \n",
      "17       7.92     2                1450.0  \n",
      "18       8.08     2                1850.0  \n",
      "19       8.25     3                2019.0  \n",
      "20       8.00     2                1300.0  \n",
      "21       7.83     2                1320.0  \n",
      "22       7.83     1                2112.0  \n",
      "23       8.33     1                1538.4  \n",
      "24       8.00     2                1250.0  \n",
      "25       8.25     2                1488.0  \n",
      "26       7.92     2                3170.0  \n",
      "27       7.83     2                1000.0  \n",
      "28       7.83     2                1212.0  \n",
      "29       8.25     2                1250.0  \n",
      "30       7.75     2                3000.0  \n",
      "31       7.92     2                 750.0  \n",
      "32       7.92     1                3140.0  \n",
      "33       7.83     2                1000.0  \n",
      "34       7.92     2                1100.0  \n",
      "35       7.50     2                1095.0  \n",
      "36       7.75     2                1000.0  \n",
      "37       7.67     2                 750.0  \n",
      "38       7.67     2                1367.0  \n",
      "39       7.67     2                1488.0  \n",
      "40       7.58     2                1000.0  \n",
      "41       7.67     0                 750.0  \n",
      "42       7.75     2                1600.0  \n",
      "43       7.50     2                1745.0  \n",
      "44       7.67     2                1200.0  \n",
      "45       7.58     1                 750.0  \n",
      "46       7.42     2                 750.0  \n",
      "47       7.42     2                3000.0  \n",
      "48       5.17     0                  40.0  \n",
      "49       7.50     0                 795.0  \n"
     ]
    }
   ],
   "source": [
    "#loop for each row, adding heroes to new columns\n",
    "\n",
    "df2 = pd.DataFrame(df1)\n",
    "\n",
    "for i in range(len(df2)):\n",
    "    if (df2.loc[i,'Species'] == \"Robusta\"):\n",
    "        df2.loc[i,'Species'] = 1\n",
    "    elif (df2.loc[i,'Species'] == \"Arabica\"):\n",
    "        df2.loc[i,'Species'] = 0\n",
    "\n",
    "print(df2)"
   ]
  },
  {
   "cell_type": "code",
   "execution_count": 11,
   "id": "cc66a503",
   "metadata": {},
   "outputs": [],
   "source": [
    "#make unique ID for each hero\n",
    "df3 = pd.DataFrame(df2, columns=[\"Color\"])\n",
    "\n",
    "jeniswarna=[]\n",
    "for i in range(len(df2)):\n",
    "    jeniswarna.append(df3.loc[i,'Color'])\n",
    "    \n",
    "jeniswarna = list(dict.fromkeys(jeniswarna))\n",
    "jeniswarna = sorted(jeniswarna)"
   ]
  },
  {
   "cell_type": "code",
   "execution_count": 15,
   "id": "3eea799e",
   "metadata": {},
   "outputs": [
    {
     "name": "stdout",
     "output_type": "stream",
     "text": [
      "   Species       Country.of.Origin  Aroma  Flavor  Aftertaste  Acidity  \\\n",
      "0        0                Ethiopia   8.67    8.83        8.67     8.75   \n",
      "1        0                Ethiopia   8.75    8.67        8.50     8.58   \n",
      "2        0               Guatemala   8.42    8.50        8.42     8.42   \n",
      "3        0                Ethiopia   8.17    8.58        8.42     8.42   \n",
      "4        0                Ethiopia   8.25    8.50        8.25     8.50   \n",
      "5        0                    Peru   8.42    8.50        8.33     8.50   \n",
      "6        0                Ethiopia   8.25    8.33        8.50     8.42   \n",
      "7        0                Ethiopia   8.67    8.67        8.58     8.42   \n",
      "8        0                Ethiopia   8.08    8.58        8.50     8.50   \n",
      "9        0                Ethiopia   8.17    8.67        8.25     8.50   \n",
      "10       0           United States   8.25    8.42        8.17     8.33   \n",
      "11       0           United States   8.08    8.67        8.33     8.42   \n",
      "12       0  United States (Hawaii)   8.33    8.42        8.08     8.25   \n",
      "13       0                Ethiopia   8.25    8.33        8.50     8.25   \n",
      "14       0           United States   8.00    8.50        8.58     8.17   \n",
      "15       0               Indonesia   8.33    8.25        7.83     7.75   \n",
      "16       0                Ethiopia   8.17    8.33        8.25     8.33   \n",
      "17       0                   China   8.42    8.25        8.08     8.17   \n",
      "18       0                Ethiopia   8.17    8.17        8.00     8.17   \n",
      "19       0           United States   8.00    8.25        8.08     8.50   \n",
      "20       0              Costa Rica   8.08    8.25        8.00     8.17   \n",
      "21       0                  Mexico   8.17    8.25        8.17     8.00   \n",
      "22       0           United States   8.25    8.33        8.17     8.17   \n",
      "23       0                Ethiopia   8.42    8.17        7.92     8.17   \n",
      "24       0                  Brazil   8.50    8.50        8.00     8.00   \n",
      "25       1                  Uganda   7.83    8.08        7.75     7.92   \n",
      "26       1                   India   8.00    7.75        7.92     8.00   \n",
      "27       1                   India   7.92    7.83        7.92     8.00   \n",
      "28       1                  Uganda   8.00    7.92        7.92     7.75   \n",
      "29       1                  Uganda   8.33    7.83        7.83     7.75   \n",
      "30       1                   India   8.00    7.92        7.67     8.00   \n",
      "31       1                   India   7.67    7.75        7.83     7.83   \n",
      "32       1                   India   7.67    7.75        7.83     7.67   \n",
      "33       1                   India   7.67    7.75        7.58     7.83   \n",
      "34       1                  Uganda   7.67    7.83        7.83     7.83   \n",
      "35       1                  Uganda   7.58    7.92        7.75     7.83   \n",
      "36       1                   India   7.67    7.83        7.75     7.50   \n",
      "37       1                   India   7.58    7.58        7.67     7.58   \n",
      "38       1                  Uganda   8.00    7.75        7.75     7.58   \n",
      "39       1                  Uganda   8.00    7.67        7.75     7.50   \n",
      "40       1                   India   7.75    7.75        7.67     7.67   \n",
      "41       1                   India   7.50    7.50        7.25     7.83   \n",
      "42       1                  Uganda   7.33    7.58        7.50     7.75   \n",
      "43       1                  Uganda   7.83    7.58        7.33     7.67   \n",
      "44       1                  Uganda   7.75    7.42        7.33     7.58   \n",
      "45       1                   India   7.67    7.67        7.50     7.33   \n",
      "46       1                   India   7.58    7.42        7.42     7.83   \n",
      "47       1           United States   7.92    7.50        7.42     7.42   \n",
      "48       1                 Ecuador   7.50    7.67        7.75     7.75   \n",
      "49       1           United States   7.33    7.33        7.17     7.42   \n",
      "\n",
      "    Mouthfeel Color  altitude_mean_meters  \n",
      "0        8.50     2                2075.0  \n",
      "1        8.42     2                2075.0  \n",
      "2        8.33     2                1700.0  \n",
      "3        8.50     2                2000.0  \n",
      "4        8.42     2                2075.0  \n",
      "5        8.25     1                1538.4  \n",
      "6        8.33     1                1635.0  \n",
      "7        8.33     2                1635.0  \n",
      "8        7.67     2                1822.5  \n",
      "9        7.75     2                1905.0  \n",
      "10       8.08     2                1872.0  \n",
      "11       8.00     2                1943.0  \n",
      "12       8.25     2                 609.6  \n",
      "13       8.58     2                1635.0  \n",
      "14       8.17     2                2080.0  \n",
      "15       8.50     2                1500.0  \n",
      "16       8.42     2                1538.4  \n",
      "17       7.92     2                1450.0  \n",
      "18       8.08     2                1850.0  \n",
      "19       8.25     3                2019.0  \n",
      "20       8.00     2                1300.0  \n",
      "21       7.83     2                1320.0  \n",
      "22       7.83     1                2112.0  \n",
      "23       8.33     1                1538.4  \n",
      "24       8.00     2                1250.0  \n",
      "25       8.25     2                1488.0  \n",
      "26       7.92     2                3170.0  \n",
      "27       7.83     2                1000.0  \n",
      "28       7.83     2                1212.0  \n",
      "29       8.25     2                1250.0  \n",
      "30       7.75     2                3000.0  \n",
      "31       7.92     2                 750.0  \n",
      "32       7.92     1                3140.0  \n",
      "33       7.83     2                1000.0  \n",
      "34       7.92     2                1100.0  \n",
      "35       7.50     2                1095.0  \n",
      "36       7.75     2                1000.0  \n",
      "37       7.67     2                 750.0  \n",
      "38       7.67     2                1367.0  \n",
      "39       7.67     2                1488.0  \n",
      "40       7.58     2                1000.0  \n",
      "41       7.67     0                 750.0  \n",
      "42       7.75     2                1600.0  \n",
      "43       7.50     2                1745.0  \n",
      "44       7.67     2                1200.0  \n",
      "45       7.58     1                 750.0  \n",
      "46       7.42     2                 750.0  \n",
      "47       7.42     2                3000.0  \n",
      "48       5.17     0                  40.0  \n",
      "49       7.50     0                 795.0  \n"
     ]
    }
   ],
   "source": [
    "df4 = pd.DataFrame(df2)\n",
    "\n",
    "for i in range(len(df4)):\n",
    "    x=(df4.loc[i,'Color'])\n",
    "    xx=jeniswarna.index(x, 0, len(jeniswarna))\n",
    "    df4.loc[i,'Color'] = xx\n",
    "\n",
    "print(df4)"
   ]
  },
  {
   "cell_type": "markdown",
   "id": "813bdd91",
   "metadata": {},
   "source": [
    "note color : 0 = Blue-Green\n",
    "             1 = Bluish-Green\n",
    "             2 = Green\n",
    "             3 = None"
   ]
  },
  {
   "cell_type": "code",
   "execution_count": 19,
   "id": "c08e6fa2",
   "metadata": {},
   "outputs": [],
   "source": [
    "df4.to_csv(r'./cleandata.csv', index=False)"
   ]
  },
  {
   "cell_type": "code",
   "execution_count": 20,
   "id": "417eb7cf",
   "metadata": {},
   "outputs": [
    {
     "data": {
      "text/html": [
       "<div>\n",
       "<style scoped>\n",
       "    .dataframe tbody tr th:only-of-type {\n",
       "        vertical-align: middle;\n",
       "    }\n",
       "\n",
       "    .dataframe tbody tr th {\n",
       "        vertical-align: top;\n",
       "    }\n",
       "\n",
       "    .dataframe thead th {\n",
       "        text-align: right;\n",
       "    }\n",
       "</style>\n",
       "<table border=\"1\" class=\"dataframe\">\n",
       "  <thead>\n",
       "    <tr style=\"text-align: right;\">\n",
       "      <th></th>\n",
       "      <th>Species</th>\n",
       "      <th>Aroma</th>\n",
       "      <th>Flavor</th>\n",
       "      <th>Aftertaste</th>\n",
       "      <th>Acidity</th>\n",
       "      <th>Mouthfeel</th>\n",
       "      <th>Color</th>\n",
       "    </tr>\n",
       "  </thead>\n",
       "  <tbody>\n",
       "    <tr>\n",
       "      <th>0</th>\n",
       "      <td>0</td>\n",
       "      <td>8.67</td>\n",
       "      <td>8.83</td>\n",
       "      <td>8.67</td>\n",
       "      <td>8.75</td>\n",
       "      <td>8.50</td>\n",
       "      <td>2</td>\n",
       "    </tr>\n",
       "    <tr>\n",
       "      <th>1</th>\n",
       "      <td>0</td>\n",
       "      <td>8.75</td>\n",
       "      <td>8.67</td>\n",
       "      <td>8.50</td>\n",
       "      <td>8.58</td>\n",
       "      <td>8.42</td>\n",
       "      <td>2</td>\n",
       "    </tr>\n",
       "    <tr>\n",
       "      <th>2</th>\n",
       "      <td>0</td>\n",
       "      <td>8.42</td>\n",
       "      <td>8.50</td>\n",
       "      <td>8.42</td>\n",
       "      <td>8.42</td>\n",
       "      <td>8.33</td>\n",
       "      <td>2</td>\n",
       "    </tr>\n",
       "    <tr>\n",
       "      <th>3</th>\n",
       "      <td>0</td>\n",
       "      <td>8.17</td>\n",
       "      <td>8.58</td>\n",
       "      <td>8.42</td>\n",
       "      <td>8.42</td>\n",
       "      <td>8.50</td>\n",
       "      <td>2</td>\n",
       "    </tr>\n",
       "    <tr>\n",
       "      <th>4</th>\n",
       "      <td>0</td>\n",
       "      <td>8.25</td>\n",
       "      <td>8.50</td>\n",
       "      <td>8.25</td>\n",
       "      <td>8.50</td>\n",
       "      <td>8.42</td>\n",
       "      <td>2</td>\n",
       "    </tr>\n",
       "  </tbody>\n",
       "</table>\n",
       "</div>"
      ],
      "text/plain": [
       "   Species  Aroma  Flavor  Aftertaste  Acidity  Mouthfeel  Color\n",
       "0        0   8.67    8.83        8.67     8.75       8.50      2\n",
       "1        0   8.75    8.67        8.50     8.58       8.42      2\n",
       "2        0   8.42    8.50        8.42     8.42       8.33      2\n",
       "3        0   8.17    8.58        8.42     8.42       8.50      2\n",
       "4        0   8.25    8.50        8.25     8.50       8.42      2"
      ]
     },
     "execution_count": 20,
     "metadata": {},
     "output_type": "execute_result"
    }
   ],
   "source": [
    "data = pd.read_csv('./cleandata.csv')\n",
    "data = data.drop(['Country.of.Origin','altitude_mean_meters'], axis=1)\n",
    "data.head()"
   ]
  },
  {
   "cell_type": "code",
   "execution_count": 22,
   "id": "dcc2ee50",
   "metadata": {},
   "outputs": [],
   "source": [
    "X = data.drop('Species',axis=1)\n",
    "y = data[\"Species\"]\n",
    "X_train, X_test, y_train, y_test = train_test_split(X, y, test_size=0.1, random_state = 0)"
   ]
  },
  {
   "cell_type": "code",
   "execution_count": 24,
   "id": "bd26e616",
   "metadata": {},
   "outputs": [
    {
     "data": {
      "text/plain": [
       "1.0"
      ]
     },
     "execution_count": 24,
     "metadata": {},
     "output_type": "execute_result"
    }
   ],
   "source": [
    "nb = GaussianNB()\n",
    "nb.fit(X_train, y_train)\n",
    "nb_predict = nb.predict(X_test)\n",
    "\n",
    "nb_acc_score = accuracy_score(y_test, nb_predict)\n",
    "nb_acc_score"
   ]
  },
  {
   "cell_type": "code",
   "execution_count": 26,
   "id": "a6a4f2e8",
   "metadata": {},
   "outputs": [
    {
     "data": {
      "text/plain": [
       "1.0"
      ]
     },
     "execution_count": 26,
     "metadata": {},
     "output_type": "execute_result"
    }
   ],
   "source": [
    "knn = KNeighborsClassifier()\n",
    "knn_params = {'n_neighbors': range(1, 16)}\n",
    "knn_grid = GridSearchCV(knn, knn_params, cv=5)\n",
    "knn_grid.fit(X_train, y_train)\n",
    "best_n_neighbors = knn_grid.best_params_['n_neighbors']\n",
    "\n",
    "knn = KNeighborsClassifier(n_neighbors=best_n_neighbors)\n",
    "knn.fit(X_train, y_train)\n",
    "knn_predict = knn.predict(X_test)\n",
    "\n",
    "knn_acc_score = accuracy_score(y_test, knn_predict)\n",
    "knn_acc_score"
   ]
  },
  {
   "cell_type": "code",
   "execution_count": 38,
   "id": "8a8b6018",
   "metadata": {},
   "outputs": [],
   "source": [
    "msk = np.random.rand(len(df)) < 0.8\n",
    "train = cdf[msk]\n",
    "test = cdf[~msk]"
   ]
  },
  {
   "cell_type": "markdown",
   "id": "01d9bc90",
   "metadata": {},
   "source": [
    "## Regresi"
   ]
  },
  {
   "cell_type": "code",
   "execution_count": 39,
   "id": "b53eff35",
   "metadata": {},
   "outputs": [
    {
     "data": {
      "image/png": "[encoded data removed]",
      "text/plain": [
       "<Figure size 432x288 with 1 Axes>"
      ]
     },
     "metadata": {
      "needs_background": "light"
     },
     "output_type": "display_data"
    }
   ],
   "source": [
    "plt.scatter(train.Aroma, train.Acid,  color='darkblue')\n",
    "plt.xlabel(\"Aroma\")\n",
    "plt.ylabel(\"Acid\")\n",
    "plt.show()"
   ]
  },
  {
   "cell_type": "code",
   "execution_count": 40,
   "id": "0c734835",
   "metadata": {},
   "outputs": [
    {
     "data": {
      "image/png": "[encoded data removed]",
      "text/plain": [
       "<Figure size 432x288 with 1 Axes>"
      ]
     },
     "metadata": {
      "needs_background": "light"
     },
     "output_type": "display_data"
    }
   ],
   "source": [
    "plt.scatter(train.Flavor, train.Acid,  color='darkblue')\n",
    "plt.xlabel(\"Flavor\")\n",
    "plt.ylabel(\"Acid\")\n",
    "plt.show()"
   ]
  },
  {
   "cell_type": "code",
   "execution_count": 41,
   "id": "99f71e8d",
   "metadata": {},
   "outputs": [
    {
     "data": {
      "image/png": "[encoded data removed]",
      "text/plain": [
       "<Figure size 432x288 with 1 Axes>"
      ]
     },
     "metadata": {
      "needs_background": "light"
     },
     "output_type": "display_data"
    }
   ],
   "source": [
    "plt.scatter(train.Aftertaste, train.Acid,  color='darkblue')\n",
    "plt.xlabel(\"Aftertaste\")\n",
    "plt.ylabel(\"Acid\")\n",
    "plt.show()"
   ]
  },
  {
   "cell_type": "code",
   "execution_count": 42,
   "id": "b7fdd011",
   "metadata": {},
   "outputs": [
    {
     "data": {
      "image/png": "[encoded data removed]",
      "text/plain": [
       "<Figure size 432x288 with 1 Axes>"
      ]
     },
     "metadata": {
      "needs_background": "light"
     },
     "output_type": "display_data"
    }
   ],
   "source": [
    "plt.scatter(train.Mouthfeel, train.Acid,  color='darkblue')\n",
    "plt.xlabel(\"Mouthfeel\")\n",
    "plt.ylabel(\"Acid\")\n",
    "plt.show()"
   ]
  },
  {
   "cell_type": "code",
   "execution_count": 43,
   "id": "19a5a340",
   "metadata": {},
   "outputs": [
    {
     "data": {
      "image/png": "[encoded data removed]",
      "text/plain": [
       "<Figure size 432x288 with 1 Axes>"
      ]
     },
     "metadata": {
      "needs_background": "light"
     },
     "output_type": "display_data"
    }
   ],
   "source": [
    "plt.scatter(train.altitude_mean_meters, train.Acid,  color='darkblue')\n",
    "plt.xlabel(\"Altitude\")\n",
    "plt.ylabel(\"Acid\")\n",
    "plt.show()"
   ]
  },
  {
   "cell_type": "markdown",
   "id": "20182576",
   "metadata": {},
   "source": [
    "## Rumus"
   ]
  },
  {
   "cell_type": "markdown",
   "id": "b0e7520f",
   "metadata": {},
   "source": [
    "### Aroma x Acid"
   ]
  },
  {
   "cell_type": "code",
   "execution_count": 44,
   "id": "b98f2868",
   "metadata": {},
   "outputs": [
    {
     "data": {
      "text/plain": [
       "LinearRegression()"
      ]
     },
     "execution_count": 44,
     "metadata": {},
     "output_type": "execute_result"
    }
   ],
   "source": [
    "from sklearn import linear_model\n",
    "regr = linear_model.LinearRegression()\n",
    "train_x = np.asanyarray(train[['Aroma']])\n",
    "train_y = np.asanyarray(train[['Acid']])\n",
    "regr.fit (train_x, train_y)"
   ]
  },
  {
   "cell_type": "code",
   "execution_count": 45,
   "id": "4f41eb20",
   "metadata": {},
   "outputs": [
    {
     "name": "stdout",
     "output_type": "stream",
     "text": [
      "Coefficients:  [[0.58766254]]\n",
      "Intercept:  [3.31272305]\n"
     ]
    }
   ],
   "source": [
    "print ('Coefficients: ', regr.coef_)\n",
    "print ('Intercept: ',regr.intercept_)"
   ]
  },
  {
   "cell_type": "code",
   "execution_count": 46,
   "id": "48a00e1e",
   "metadata": {},
   "outputs": [
    {
     "data": {
      "text/plain": [
       "Text(0, 0.5, 'Acid')"
      ]
     },
     "execution_count": 46,
     "metadata": {},
     "output_type": "execute_result"
    },
    {
     "data": {
      "image/png": "[encoded data removed]",
      "text/plain": [
       "<Figure size 432x288 with 1 Axes>"
      ]
     },
     "metadata": {
      "needs_background": "light"
     },
     "output_type": "display_data"
    }
   ],
   "source": [
    "plt.scatter(train.Aroma, train.Acid,  color='darkblue')\n",
    "plt.plot(train_x, regr.coef_[0][0]*train_x + regr.intercept_[0], '-r')\n",
    "plt.xlabel(\"Aroma\")\n",
    "plt.ylabel(\"Acid\")"
   ]
  },
  {
   "cell_type": "code",
   "execution_count": 56,
   "id": "3eb5f86b",
   "metadata": {},
   "outputs": [
    {
     "name": "stdout",
     "output_type": "stream",
     "text": [
      "Mean absolute error: 0.16\n",
      "Residual sum of squares (MSE): 0.04\n",
      "R2-score: 0.25\n"
     ]
    }
   ],
   "source": [
    "from sklearn.metrics import r2_score\n",
    "\n",
    "test_x = np.asanyarray(test[['Aroma']])\n",
    "test_y = np.asanyarray(test[['Acid']])\n",
    "test_y_ = regr.predict(test_x)\n",
    "\n",
    "print(\"Mean absolute error: %.2f\" % np.mean(np.absolute(test_y_ - test_y)))\n",
    "print(\"Residual sum of squares (MSE): %.2f\" % np.mean((test_y_ - test_y) ** 2))\n",
    "print(\"R2-score: %.2f\" % r2_score(test_y_ , test_y) )"
   ]
  },
  {
   "cell_type": "markdown",
   "id": "ebd7aa80",
   "metadata": {},
   "source": [
    "### Flavor x Acid"
   ]
  },
  {
   "cell_type": "code",
   "execution_count": 47,
   "id": "697631f2",
   "metadata": {},
   "outputs": [
    {
     "data": {
      "text/plain": [
       "LinearRegression()"
      ]
     },
     "execution_count": 47,
     "metadata": {},
     "output_type": "execute_result"
    }
   ],
   "source": [
    "from sklearn import linear_model\n",
    "regr = linear_model.LinearRegression()\n",
    "train_x = np.asanyarray(train[['Flavor']])\n",
    "train_y = np.asanyarray(train[['Acid']])\n",
    "regr.fit (train_x, train_y)"
   ]
  },
  {
   "cell_type": "code",
   "execution_count": 48,
   "id": "83b9dbbd",
   "metadata": {},
   "outputs": [
    {
     "name": "stdout",
     "output_type": "stream",
     "text": [
      "Coefficients:  [[0.78502151]]\n",
      "Intercept:  [1.71861833]\n"
     ]
    }
   ],
   "source": [
    "print ('Coefficients: ', regr.coef_)\n",
    "print ('Intercept: ',regr.intercept_)"
   ]
  },
  {
   "cell_type": "code",
   "execution_count": 49,
   "id": "31793901",
   "metadata": {},
   "outputs": [
    {
     "data": {
      "text/plain": [
       "Text(0, 0.5, 'Acid')"
      ]
     },
     "execution_count": 49,
     "metadata": {},
     "output_type": "execute_result"
    },
    {
     "data": {
      "image/png": "[encoded data removed]",
      "text/plain": [
       "<Figure size 432x288 with 1 Axes>"
      ]
     },
     "metadata": {
      "needs_background": "light"
     },
     "output_type": "display_data"
    }
   ],
   "source": [
    "plt.scatter(train.Flavor, train.Acid,  color='darkblue')\n",
    "plt.plot(train_x, regr.coef_[0][0]*train_x + regr.intercept_[0], '-r')\n",
    "plt.xlabel(\"Flavor\")\n",
    "plt.ylabel(\"Acid\")"
   ]
  },
  {
   "cell_type": "code",
   "execution_count": 57,
   "id": "1cf4cc24",
   "metadata": {},
   "outputs": [
    {
     "name": "stdout",
     "output_type": "stream",
     "text": [
      "Mean absolute error: 0.13\n",
      "Residual sum of squares (MSE): 0.03\n",
      "R2-score: 0.36\n"
     ]
    }
   ],
   "source": [
    "from sklearn.metrics import r2_score\n",
    "\n",
    "test_x = np.asanyarray(test[['Flavor']])\n",
    "test_y = np.asanyarray(test[['Acid']])\n",
    "test_y_ = regr.predict(test_x)\n",
    "\n",
    "print(\"Mean absolute error: %.2f\" % np.mean(np.absolute(test_y_ - test_y)))\n",
    "print(\"Residual sum of squares (MSE): %.2f\" % np.mean((test_y_ - test_y) ** 2))\n",
    "print(\"R2-score: %.2f\" % r2_score(test_y_ , test_y) )"
   ]
  },
  {
   "cell_type": "markdown",
   "id": "0833daa2",
   "metadata": {},
   "source": [
    "### Aftertase x Acid"
   ]
  },
  {
   "cell_type": "code",
   "execution_count": null,
   "id": "7a596ac4",
   "metadata": {},
   "outputs": [],
   "source": [
    "from sklearn import linear_model\n",
    "regr = linear_model.LinearRegression()\n",
    "train_x = np.asanyarray(train[['Aftertaste']])\n",
    "train_y = np.asanyarray(train[['Acid']])\n",
    "regr.fit (train_x, train_y)"
   ]
  },
  {
   "cell_type": "code",
   "execution_count": 51,
   "id": "44acc3e5",
   "metadata": {},
   "outputs": [
    {
     "name": "stdout",
     "output_type": "stream",
     "text": [
      "Coefficients:  [[0.78502151]]\n",
      "Intercept:  [1.71861833]\n"
     ]
    },
    {
     "data": {
      "text/plain": [
       "Text(0, 0.5, 'Acid')"
      ]
     },
     "execution_count": 51,
     "metadata": {},
     "output_type": "execute_result"
    },
    {
     "data": {
      "image/png": "[encoded data removed]",
      "text/plain": [
       "<Figure size 432x288 with 1 Axes>"
      ]
     },
     "metadata": {
      "needs_background": "light"
     },
     "output_type": "display_data"
    }
   ],
   "source": [
    "print ('Coefficients: ', regr.coef_)\n",
    "print ('Intercept: ',regr.intercept_)\n",
    "plt.scatter(train.Aftertaste, train.Acid,  color='darkblue')\n",
    "plt.plot(train_x, regr.coef_[0][0]*train_x + regr.intercept_[0], '-r')\n",
    "plt.xlabel(\"Aftertaste\")\n",
    "plt.ylabel(\"Acid\")"
   ]
  },
  {
   "cell_type": "code",
   "execution_count": 58,
   "id": "2019f0f4",
   "metadata": {},
   "outputs": [
    {
     "name": "stdout",
     "output_type": "stream",
     "text": [
      "Mean absolute error: 0.16\n",
      "Residual sum of squares (MSE): 0.03\n",
      "R2-score: 0.22\n"
     ]
    }
   ],
   "source": [
    "from sklearn.metrics import r2_score\n",
    "\n",
    "test_x = np.asanyarray(test[['Aftertaste']])\n",
    "test_y = np.asanyarray(test[['Acid']])\n",
    "test_y_ = regr.predict(test_x)\n",
    "\n",
    "print(\"Mean absolute error: %.2f\" % np.mean(np.absolute(test_y_ - test_y)))\n",
    "print(\"Residual sum of squares (MSE): %.2f\" % np.mean((test_y_ - test_y) ** 2))\n",
    "print(\"R2-score: %.2f\" % r2_score(test_y_ , test_y) )"
   ]
  },
  {
   "cell_type": "markdown",
   "id": "a1078102",
   "metadata": {},
   "source": [
    "### Mouthfeel x Acid"
   ]
  },
  {
   "cell_type": "code",
   "execution_count": 52,
   "id": "f9395af9",
   "metadata": {},
   "outputs": [
    {
     "data": {
      "text/plain": [
       "LinearRegression()"
      ]
     },
     "execution_count": 52,
     "metadata": {},
     "output_type": "execute_result"
    }
   ],
   "source": [
    "from sklearn import linear_model\n",
    "regr = linear_model.LinearRegression()\n",
    "train_x = np.asanyarray(train[['Flavor']])\n",
    "train_y = np.asanyarray(train[['Acid']])\n",
    "regr.fit (train_x, train_y)"
   ]
  },
  {
   "cell_type": "code",
   "execution_count": 53,
   "id": "0d52758a",
   "metadata": {},
   "outputs": [
    {
     "name": "stdout",
     "output_type": "stream",
     "text": [
      "Coefficients:  [[0.78502151]]\n",
      "Intercept:  [1.71861833]\n"
     ]
    },
    {
     "data": {
      "text/plain": [
       "Text(0, 0.5, 'Acid')"
      ]
     },
     "execution_count": 53,
     "metadata": {},
     "output_type": "execute_result"
    },
    {
     "data": {
      "image/png": "[encoded data removed]",
      "text/plain": [
       "<Figure size 432x288 with 1 Axes>"
      ]
     },
     "metadata": {
      "needs_background": "light"
     },
     "output_type": "display_data"
    }
   ],
   "source": [
    "print ('Coefficients: ', regr.coef_)\n",
    "print ('Intercept: ',regr.intercept_)\n",
    "plt.scatter(train.Mouthfeel, train.Acid,  color='darkblue')\n",
    "plt.plot(train_x, regr.coef_[0][0]*train_x + regr.intercept_[0], '-r')\n",
    "plt.xlabel(\"Mouthfeel\")\n",
    "plt.ylabel(\"Acid\")"
   ]
  },
  {
   "cell_type": "code",
   "execution_count": 59,
   "id": "d54e81f0",
   "metadata": {},
   "outputs": [
    {
     "name": "stdout",
     "output_type": "stream",
     "text": [
      "Mean absolute error: 0.15\n",
      "Residual sum of squares (MSE): 0.03\n",
      "R2-score: 0.06\n"
     ]
    }
   ],
   "source": [
    "from sklearn.metrics import r2_score\n",
    "\n",
    "test_x = np.asanyarray(test[['Mouthfeel']])\n",
    "test_y = np.asanyarray(test[['Acid']])\n",
    "test_y_ = regr.predict(test_x)\n",
    "\n",
    "print(\"Mean absolute error: %.2f\" % np.mean(np.absolute(test_y_ - test_y)))\n",
    "print(\"Residual sum of squares (MSE): %.2f\" % np.mean((test_y_ - test_y) ** 2))\n",
    "print(\"R2-score: %.2f\" % r2_score(test_y_ , test_y) )"
   ]
  },
  {
   "cell_type": "markdown",
   "id": "57d6a11b",
   "metadata": {},
   "source": [
    "### Altitude x Acid"
   ]
  },
  {
   "cell_type": "code",
   "execution_count": 54,
   "id": "3ec70b98",
   "metadata": {},
   "outputs": [
    {
     "data": {
      "text/plain": [
       "LinearRegression()"
      ]
     },
     "execution_count": 54,
     "metadata": {},
     "output_type": "execute_result"
    }
   ],
   "source": [
    "from sklearn import linear_model\n",
    "regr = linear_model.LinearRegression()\n",
    "train_x = np.asanyarray(train[['Flavor']])\n",
    "train_y = np.asanyarray(train[['Acid']])\n",
    "regr.fit (train_x, train_y)"
   ]
  },
  {
   "cell_type": "code",
   "execution_count": 55,
   "id": "6ff5e1e4",
   "metadata": {},
   "outputs": [
    {
     "name": "stdout",
     "output_type": "stream",
     "text": [
      "Coefficients:  [[0.78502151]]\n",
      "Intercept:  [1.71861833]\n"
     ]
    },
    {
     "data": {
      "text/plain": [
       "Text(0, 0.5, 'Acid')"
      ]
     },
     "execution_count": 55,
     "metadata": {},
     "output_type": "execute_result"
    },
    {
     "data": {
      "image/png": "[encoded data removed]",
      "text/plain": [
       "<Figure size 432x288 with 1 Axes>"
      ]
     },
     "metadata": {
      "needs_background": "light"
     },
     "output_type": "display_data"
    }
   ],
   "source": [
    "print ('Coefficients: ', regr.coef_)\n",
    "print ('Intercept: ',regr.intercept_)\n",
    "plt.scatter(train.altitude_mean_meters, train.Acid,  color='darkblue')\n",
    "plt.plot(train_x, regr.coef_[0][0]*train_x + regr.intercept_[0], '-r')\n",
    "plt.xlabel(\"Altitude\")\n",
    "plt.ylabel(\"Acid\")"
   ]
  },
  {
   "cell_type": "code",
   "execution_count": 60,
   "id": "608e4b22",
   "metadata": {},
   "outputs": [
    {
     "name": "stdout",
     "output_type": "stream",
     "text": [
      "Mean absolute error: 1137.13\n",
      "Residual sum of squares (MSE): 1528635.49\n",
      "R2-score: -5.49\n"
     ]
    }
   ],
   "source": [
    "from sklearn.metrics import r2_score\n",
    "\n",
    "test_x = np.asanyarray(test[['altitude_mean_meters']])\n",
    "test_y = np.asanyarray(test[['Acid']])\n",
    "test_y_ = regr.predict(test_x)\n",
    "\n",
    "print(\"Mean absolute error: %.2f\" % np.mean(np.absolute(test_y_ - test_y)))\n",
    "print(\"Residual sum of squares (MSE): %.2f\" % np.mean((test_y_ - test_y) ** 2))\n",
    "print(\"R2-score: %.2f\" % r2_score(test_y_ , test_y) )"
   ]
  },
  {
   "cell_type": "code",
   "execution_count": null,
   "id": "75a4385d",
   "metadata": {},
   "outputs": [],
   "source": []
  },
  {
   "cell_type": "code",
   "execution_count": null,
   "id": "44edd5d4",
   "metadata": {},
   "outputs": [],
   "source": []
  }
 ],
 "metadata": {
  "kernelspec": {
   "display_name": "Python 3 (ipykernel)",
   "language": "python",
   "name": "python3"
  },
  "language_info": {
   "codemirror_mode": {
    "name": "ipython",
    "version": 3
   },
   "file_extension": ".py",
   "mimetype": "text/x-python",
   "name": "python",
   "nbconvert_exporter": "python",
   "pygments_lexer": "ipython3",
   "version": "3.9.12"
  }
 },
 "nbformat": 4,
 "nbformat_minor": 5
}
